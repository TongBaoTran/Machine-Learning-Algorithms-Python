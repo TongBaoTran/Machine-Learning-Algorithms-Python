{
 "cells": [
  {
   "cell_type": "code",
   "execution_count": 134,
   "metadata": {},
   "outputs": [],
   "source": [
    "import numpy as np\n",
    "import matplotlib.pyplot as plt\n",
    "import pandas as pd\n",
    "import seaborn as sns\n",
    "%matplotlib inline\n"
   ]
  },
  {
   "cell_type": "code",
   "execution_count": 135,
   "metadata": {},
   "outputs": [],
   "source": [
    "data=pd.read_csv(\"insurance.csv\")"
   ]
  },
  {
   "cell_type": "code",
   "execution_count": 136,
   "metadata": {},
   "outputs": [
    {
     "data": {
      "text/html": [
       "<div>\n",
       "<style scoped>\n",
       "    .dataframe tbody tr th:only-of-type {\n",
       "        vertical-align: middle;\n",
       "    }\n",
       "\n",
       "    .dataframe tbody tr th {\n",
       "        vertical-align: top;\n",
       "    }\n",
       "\n",
       "    .dataframe thead th {\n",
       "        text-align: right;\n",
       "    }\n",
       "</style>\n",
       "<table border=\"1\" class=\"dataframe\">\n",
       "  <thead>\n",
       "    <tr style=\"text-align: right;\">\n",
       "      <th></th>\n",
       "      <th>age</th>\n",
       "      <th>sex</th>\n",
       "      <th>bmi</th>\n",
       "      <th>children</th>\n",
       "      <th>smoker</th>\n",
       "      <th>region</th>\n",
       "      <th>charges</th>\n",
       "    </tr>\n",
       "  </thead>\n",
       "  <tbody>\n",
       "    <tr>\n",
       "      <td>0</td>\n",
       "      <td>19</td>\n",
       "      <td>female</td>\n",
       "      <td>27.900</td>\n",
       "      <td>0</td>\n",
       "      <td>yes</td>\n",
       "      <td>southwest</td>\n",
       "      <td>16884.92400</td>\n",
       "    </tr>\n",
       "    <tr>\n",
       "      <td>1</td>\n",
       "      <td>18</td>\n",
       "      <td>male</td>\n",
       "      <td>33.770</td>\n",
       "      <td>1</td>\n",
       "      <td>no</td>\n",
       "      <td>southeast</td>\n",
       "      <td>1725.55230</td>\n",
       "    </tr>\n",
       "    <tr>\n",
       "      <td>2</td>\n",
       "      <td>28</td>\n",
       "      <td>male</td>\n",
       "      <td>33.000</td>\n",
       "      <td>3</td>\n",
       "      <td>no</td>\n",
       "      <td>southeast</td>\n",
       "      <td>4449.46200</td>\n",
       "    </tr>\n",
       "    <tr>\n",
       "      <td>3</td>\n",
       "      <td>33</td>\n",
       "      <td>male</td>\n",
       "      <td>22.705</td>\n",
       "      <td>0</td>\n",
       "      <td>no</td>\n",
       "      <td>northwest</td>\n",
       "      <td>21984.47061</td>\n",
       "    </tr>\n",
       "    <tr>\n",
       "      <td>4</td>\n",
       "      <td>32</td>\n",
       "      <td>male</td>\n",
       "      <td>28.880</td>\n",
       "      <td>0</td>\n",
       "      <td>no</td>\n",
       "      <td>northwest</td>\n",
       "      <td>3866.85520</td>\n",
       "    </tr>\n",
       "  </tbody>\n",
       "</table>\n",
       "</div>"
      ],
      "text/plain": [
       "   age     sex     bmi  children smoker     region      charges\n",
       "0   19  female  27.900         0    yes  southwest  16884.92400\n",
       "1   18    male  33.770         1     no  southeast   1725.55230\n",
       "2   28    male  33.000         3     no  southeast   4449.46200\n",
       "3   33    male  22.705         0     no  northwest  21984.47061\n",
       "4   32    male  28.880         0     no  northwest   3866.85520"
      ]
     },
     "execution_count": 136,
     "metadata": {},
     "output_type": "execute_result"
    }
   ],
   "source": [
    "data.head()\n"
   ]
  },
  {
   "cell_type": "code",
   "execution_count": 137,
   "metadata": {},
   "outputs": [
    {
     "data": {
      "text/plain": [
       "count          1338\n",
       "unique            4\n",
       "top       southeast\n",
       "freq            364\n",
       "Name: region, dtype: object"
      ]
     },
     "execution_count": 137,
     "metadata": {},
     "output_type": "execute_result"
    }
   ],
   "source": [
    "data[\"region\"].describe()"
   ]
  },
  {
   "cell_type": "code",
   "execution_count": 138,
   "metadata": {},
   "outputs": [
    {
     "data": {
      "text/plain": [
       "Text(0, 0.5, 'Number')"
      ]
     },
     "execution_count": 138,
     "metadata": {},
     "output_type": "execute_result"
    },
    {
     "data": {
      "image/png": "[encoded data removed]",
      "text/plain": [
       "<Figure size 432x288 with 1 Axes>"
      ]
     },
     "metadata": {
      "needs_background": "light"
     },
     "output_type": "display_data"
    }
   ],
   "source": [
    "\n",
    "# create a figure and axis \n",
    "fig, ax = plt.subplots() \n",
    "# count the occurrence of each class \n",
    "sex = data['sex'].value_counts() \n",
    "# get x and y data \n",
    "points = sex.index \n",
    "frequency = sex.values \n",
    "# create bar chart \n",
    "ax.bar(points, frequency) \n",
    "# set title and labels \n",
    "ax.set_title('Female - Male Distribution') \n",
    "ax.set_xlabel('Gender') \n",
    "ax.set_ylabel('Number')"
   ]
  },
  {
   "cell_type": "code",
   "execution_count": 139,
   "metadata": {},
   "outputs": [],
   "source": [
    "X=data.iloc[:, :-1].values"
   ]
  },
  {
   "cell_type": "code",
   "execution_count": 140,
   "metadata": {},
   "outputs": [],
   "source": [
    "y=data.iloc[:, 6]"
   ]
  },
  {
   "cell_type": "code",
   "execution_count": 141,
   "metadata": {},
   "outputs": [
    {
     "data": {
      "text/plain": [
       "<matplotlib.axes._subplots.AxesSubplot at 0x27e5feea8c8>"
      ]
     },
     "execution_count": 141,
     "metadata": {},
     "output_type": "execute_result"
    },
    {
     "data": {
      "image/png": "[encoded data removed]",
      "text/plain": [
       "<Figure size 432x288 with 2 Axes>"
      ]
     },
     "metadata": {
      "needs_background": "light"
     },
     "output_type": "display_data"
    }
   ],
   "source": [
    "sns.heatmap(data.corr())"
   ]
  },
  {
   "cell_type": "code",
   "execution_count": 142,
   "metadata": {},
   "outputs": [],
   "source": [
    "from sklearn.compose import ColumnTransformer\n",
    "from sklearn.preprocessing import OneHotEncoder\n",
    "\n",
    "columnTransformer = ColumnTransformer([('encoder', OneHotEncoder(), [1,4,5])], remainder='passthrough')\n",
    "X = columnTransformer.fit_transform(X)\n",
    "\n"
   ]
  },
  {
   "cell_type": "code",
   "execution_count": 152,
   "metadata": {},
   "outputs": [
    {
     "data": {
      "text/plain": [
       "array([[1.0, 0.0, 0.0, 1.0, 0.0, 0.0, 0.0, 1.0, 19, 27.9, 0],\n",
       "       [0.0, 1.0, 1.0, 0.0, 0.0, 0.0, 1.0, 0.0, 18, 33.77, 1],\n",
       "       [0.0, 1.0, 1.0, 0.0, 0.0, 0.0, 1.0, 0.0, 28, 33.0, 3],\n",
       "       [0.0, 1.0, 1.0, 0.0, 0.0, 1.0, 0.0, 0.0, 33, 22.705, 0],\n",
       "       [0.0, 1.0, 1.0, 0.0, 0.0, 1.0, 0.0, 0.0, 32, 28.88, 0]],\n",
       "      dtype=object)"
      ]
     },
     "execution_count": 152,
     "metadata": {},
     "output_type": "execute_result"
    }
   ],
   "source": [
    "X[:5]"
   ]
  },
  {
   "cell_type": "code",
   "execution_count": 154,
   "metadata": {},
   "outputs": [],
   "source": [
    "# Avoid dummy variable trap by deleting first column of each category after encoding\n",
    "X=X[:, [1,3,5,6,7,8,9,10]]"
   ]
  },
  {
   "cell_type": "code",
   "execution_count": 159,
   "metadata": {},
   "outputs": [
    {
     "data": {
      "text/plain": [
       "array([[0.0, 1.0, 0.0, 0.0, 1.0, 19, 27.9, 0],\n",
       "       [1.0, 0.0, 0.0, 1.0, 0.0, 18, 33.77, 1],\n",
       "       [1.0, 0.0, 0.0, 1.0, 0.0, 28, 33.0, 3],\n",
       "       [1.0, 0.0, 1.0, 0.0, 0.0, 33, 22.705, 0],\n",
       "       [1.0, 0.0, 1.0, 0.0, 0.0, 32, 28.88, 0]], dtype=object)"
      ]
     },
     "execution_count": 159,
     "metadata": {},
     "output_type": "execute_result"
    }
   ],
   "source": [
    "X[:5]"
   ]
  },
  {
   "cell_type": "code",
   "execution_count": 158,
   "metadata": {},
   "outputs": [],
   "source": [
    "# Splitting the data set into training set and test set\n",
    "from sklearn.model_selection import train_test_split\n",
    "X_train, X_test, y_train, y_test = train_test_split(X, y, test_size=0.2, random_state=0)"
   ]
  },
  {
   "cell_type": "code",
   "execution_count": 161,
   "metadata": {},
   "outputs": [
    {
     "data": {
      "text/plain": [
       "LinearRegression(copy_X=True, fit_intercept=True, n_jobs=None, normalize=False)"
      ]
     },
     "execution_count": 161,
     "metadata": {},
     "output_type": "execute_result"
    }
   ],
   "source": [
    "from sklearn.linear_model import LinearRegression\n",
    "regressor = LinearRegression()\n",
    "regressor.fit(X_train, y_train)\n"
   ]
  },
  {
   "cell_type": "code",
   "execution_count": 162,
   "metadata": {},
   "outputs": [
    {
     "data": {
      "text/plain": [
       "array([1.11699271e+04, 9.48670909e+03, 3.81811231e+04, 1.62663133e+04,\n",
       "       6.91464801e+03, 3.96348488e+03, 1.57939691e+03, 1.43852566e+04,\n",
       "       9.01257970e+03, 7.50846068e+03, 4.49176728e+03, 1.02795839e+04,\n",
       "       8.80129751e+03, 3.79802013e+03, 2.79262010e+04, 1.07151158e+04,\n",
       "       1.12889756e+04, 6.10501768e+03, 8.24104117e+03, 2.71445089e+04,\n",
       "       3.36440910e+04, 1.43551043e+04, 1.17372043e+04, 3.21374335e+04,\n",
       "       4.17005913e+03, 9.25496051e+03, 1.08433751e+03, 9.80417085e+03,\n",
       "       3.77104596e+03, 1.04318587e+04, 9.00931722e+03, 4.00749509e+04,\n",
       "       1.56889543e+04, 1.38794545e+04, 2.47597127e+04, 5.16638285e+03,\n",
       "       1.26109277e+04, 3.07691018e+04, 3.35498325e+04, 3.67154946e+03,\n",
       "       3.97568613e+03, 3.98729942e+03, 3.05285774e+04, 3.95053023e+04,\n",
       "       2.78105036e+04, 5.09258923e+03, 1.06042481e+04, 7.82952256e+03,\n",
       "       3.59255553e+03, 1.02128745e+04, 5.72038147e+03, 3.42627499e+03,\n",
       "       3.30210242e+04, 3.84738218e+04, 1.60534782e+04, 7.16491905e+03,\n",
       "       5.73919977e+03, 9.45413291e+03, 8.91062701e+03, 1.17258857e+04,\n",
       "       1.85695629e+03, 3.89143605e+04, 1.48996730e+04, 1.18049582e+04,\n",
       "       1.40504025e+04, 1.40561445e+04, 2.58313858e+04, 3.22305543e+04,\n",
       "       8.14404366e+02, 1.01648424e+04, 1.23598596e+04, 1.15278235e+04,\n",
       "       2.52453261e+04, 1.56220088e+04, 1.12086899e+04, 1.26497320e+04,\n",
       "       6.55670777e+03, 9.59052489e+03, 3.01863021e+04, 3.91076220e+04,\n",
       "       1.20498440e+04, 3.72942684e+04, 4.26550696e+03, 9.39402362e+03,\n",
       "       3.48527716e+04, 2.88476976e+04, 8.68792419e+03, 4.92922782e+03,\n",
       "       1.20387310e+04, 3.04700336e+04, 1.00804115e+04, 1.13933297e+04,\n",
       "       8.39810225e+03, 8.89883547e+03, 8.43179031e+03, 7.32351973e+03,\n",
       "       3.60240264e+04, 3.31822505e+04, 7.66151070e+03, 1.51410434e+04,\n",
       "       4.01724462e+03, 8.82872049e+03, 6.32285473e+03, 3.15486188e+04,\n",
       "       3.29786059e+04, 1.97482884e+03, 9.02652020e+03, 6.69683477e+03,\n",
       "       1.45844352e+04, 3.72411416e+04, 1.01354727e+04, 1.05842948e+04,\n",
       "       1.02289339e+04, 2.69881891e+04, 3.99001531e+04, 8.46273248e+03,\n",
       "       2.96616055e+02, 9.01614987e+03, 1.52639740e+04, 9.52664600e+03,\n",
       "       3.51526354e+04, 7.26409791e+03, 1.69845335e+04, 9.65329622e+03,\n",
       "       8.24868725e+03, 2.94113601e+03, 3.29148059e+04, 3.14835586e+04,\n",
       "       3.96264776e+04, 5.60762983e+03, 9.31034135e+03, 3.59216725e+03,\n",
       "       7.64687550e+03, 8.62747451e+03, 3.17338367e+04, 2.99730030e+04,\n",
       "       2.97817459e+04, 8.72605750e+03, 3.24335307e+04, 3.36029421e+03,\n",
       "       3.70973675e+03, 1.11375495e+04, 1.31502938e+04, 1.28674710e+04,\n",
       "       5.44883743e+03, 1.55800620e+04, 1.49332492e+04, 2.40834350e+03,\n",
       "       2.55105191e+01, 1.08468131e+04, 7.40948170e+03, 3.18522280e+04,\n",
       "       1.23836972e+04, 2.33566633e+03, 6.47818023e+03, 7.85862923e+03,\n",
       "       4.44708534e+03, 2.11393087e+03, 1.13548234e+04, 1.25406264e+04,\n",
       "       7.26445489e+03, 1.63876100e+04, 1.18151028e+04, 1.41078734e+04,\n",
       "       3.18429940e+03, 7.29134465e+03, 2.31256976e+04, 7.59255833e+03,\n",
       "       5.49044860e+03, 5.20329589e+03, 6.75891084e+03, 5.19817369e+03,\n",
       "       1.00037544e+04, 5.37962241e+03, 5.73483115e+03, 6.64184520e+03,\n",
       "       3.69809973e+03, 5.56834710e+03, 3.80623106e+04, 1.50010025e+03,\n",
       "       1.26381400e+04, 8.96683074e+03, 1.37833538e+04, 5.40160572e+03,\n",
       "       5.18838626e+03, 3.64594383e+04, 4.39797382e+03, 2.04401666e+03,\n",
       "       1.52236399e+04, 1.26797512e+04, 3.51385215e+04, 4.78068826e+03,\n",
       "       5.68154275e+03, 3.12300371e+04, 6.20751775e+03, 2.15116663e+03,\n",
       "       8.43897221e+03, 1.00468638e+04, 8.00237197e+03, 5.80481228e+03,\n",
       "       1.31602625e+04, 3.84674533e+04, 1.37503227e+04, 2.88764140e+04,\n",
       "       6.78756483e+03, 3.55308164e+04, 3.76682638e+03, 1.18919418e+04,\n",
       "       9.05961188e+03, 6.25955354e+03, 1.13624630e+04, 1.45614575e+04,\n",
       "       5.16699954e+03, 4.46624724e+03, 7.90887368e+03, 1.34485587e+03,\n",
       "       7.85618662e+03, 4.41748996e+03, 1.28875526e+04, 4.24146225e+03,\n",
       "       1.01131120e+04, 7.19651081e+03, 9.29692707e+03, 2.39780639e+03,\n",
       "       1.32449759e+04, 1.68678325e+04, 1.49416610e+04, 1.05908697e+04,\n",
       "       5.29006788e+03, 2.23337923e+03, 1.93571212e+03, 1.35089298e+04,\n",
       "       1.40528682e+04, 5.01861017e+03, 3.75949429e+03, 9.48805737e+03,\n",
       "       9.97840316e+03, 2.82869768e+04, 7.64934971e+03, 1.04709900e+04,\n",
       "       6.32317041e+03, 2.98547629e+04, 1.11497389e+04, 7.50699533e+03,\n",
       "       1.02337020e+04, 1.22479679e+04, 3.00735612e+03, 1.08754195e+04,\n",
       "       1.54095549e+03, 7.03804311e+03, 2.84462147e+04, 3.86899494e+04,\n",
       "       6.36993923e+03, 8.19218360e+03, 2.53689093e+03, 4.46856827e+02,\n",
       "       1.05698935e+04, 4.20548633e+03, 4.95501030e+03, 2.34316816e+03,\n",
       "       6.80728001e+03, 3.34095038e+04, 3.82467605e+04, 1.47602310e+04,\n",
       "       8.27798435e+03, 1.61499734e+04, 3.29047581e+04, 9.46761406e+03])"
      ]
     },
     "execution_count": 162,
     "metadata": {},
     "output_type": "execute_result"
    }
   ],
   "source": [
    "y_pred=regressor.predict(X_test)\n",
    "y_pred"
   ]
  },
  {
   "cell_type": "code",
   "execution_count": 163,
   "metadata": {},
   "outputs": [
    {
     "name": "stdout",
     "output_type": "stream",
     "text": [
      "[-1.54637279e+01  2.36050173e+04 -2.60132732e+02 -9.13278834e+02\n",
      " -7.61948706e+02  2.53700500e+02  3.35962814e+02  4.36910121e+02]\n"
     ]
    }
   ],
   "source": [
    "print(regressor.coef_)"
   ]
  },
  {
   "cell_type": "code",
   "execution_count": 164,
   "metadata": {},
   "outputs": [
    {
     "name": "stdout",
     "output_type": "stream",
     "text": [
      "-11828.073537474536\n"
     ]
    }
   ],
   "source": [
    "print(regressor.intercept_)"
   ]
  },
  {
   "cell_type": "code",
   "execution_count": 165,
   "metadata": {},
   "outputs": [
    {
     "data": {
      "text/plain": [
       "0.7999876970680431"
      ]
     },
     "execution_count": 165,
     "metadata": {},
     "output_type": "execute_result"
    }
   ],
   "source": [
    "from sklearn.metrics import r2_score\n",
    "r2_score(y_test, y_pred)"
   ]
  },
  {
   "cell_type": "code",
   "execution_count": null,
   "metadata": {},
   "outputs": [],
   "source": []
  }
 ],
 "metadata": {
  "kernelspec": {
   "display_name": "Python 3",
   "language": "python",
   "name": "python3"
  },
  "language_info": {
   "codemirror_mode": {
    "name": "ipython",
    "version": 3
   },
   "file_extension": ".py",
   "mimetype": "text/x-python",
   "name": "python",
   "nbconvert_exporter": "python",
   "pygments_lexer": "ipython3",
   "version": "3.7.4"
  }
 },
 "nbformat": 4,
 "nbformat_minor": 2
}
